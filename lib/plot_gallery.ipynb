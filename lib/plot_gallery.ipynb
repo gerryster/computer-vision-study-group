{
 "metadata": {
  "language_info": {
   "codemirror_mode": {
    "name": "ipython",
    "version": 3
   },
   "file_extension": ".py",
   "mimetype": "text/x-python",
   "name": "python",
   "nbconvert_exporter": "python",
   "pygments_lexer": "ipython3",
   "version": "3.9.0-final"
  },
  "orig_nbformat": 2,
  "kernelspec": {
   "name": "python3",
   "display_name": "Python 3",
   "language": "python"
  }
 },
 "nbformat": 4,
 "nbformat_minor": 2,
 "cells": [
  {
   "source": [
    "# PlotGallery Demos\n",
    "\n"
   ],
   "cell_type": "markdown",
   "metadata": {}
  },
  {
   "cell_type": "code",
   "execution_count": null,
   "metadata": {},
   "outputs": [],
   "source": [
    "\n",
    "import matplotlib.pyplot as plt\n",
    "from numpy import array\n",
    "from plot_gallery import *\n",
    "\n",
    "img = array([[0, 255], [255, 0]])\n",
    "\n",
    "gallery = PlotGallery(columns = 2, title = 'Test Title')\n",
    "gallery.add_exhibit(Exhibit(img, title = 'Original'))\n",
    "gallery.add_exhibit(Exhibit(img, title = 'X Derivative'))\n",
    "gallery.add_exhibit(Exhibit(img, title = 'Y Derivative'))\n",
    "gallery.add_exhibit(Exhibit(img, title = 'Magnitude'))\n",
    "gallery.open()\n"
   ]
  },
  {
   "cell_type": "code",
   "execution_count": null,
   "metadata": {},
   "outputs": [],
   "source": []
  }
 ]
}