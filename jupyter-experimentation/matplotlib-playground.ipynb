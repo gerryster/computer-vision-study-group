{
 "metadata": {
  "language_info": {
   "codemirror_mode": {
    "name": "ipython",
    "version": 3
   },
   "file_extension": ".py",
   "mimetype": "text/x-python",
   "name": "python",
   "nbconvert_exporter": "python",
   "pygments_lexer": "ipython3",
   "version": "3.9.0-final"
  },
  "orig_nbformat": 2,
  "kernelspec": {
   "name": "python3",
   "display_name": "Python 3",
   "language": "python"
  }
 },
 "nbformat": 4,
 "nbformat_minor": 2,
 "cells": [
  {
   "source": [
    "# Matplotlib Playground\n",
    "\n",
    "## Axis Wrapping\n",
    "\n"
   ],
   "cell_type": "markdown",
   "metadata": {}
  },
  {
   "cell_type": "code",
   "execution_count": null,
   "metadata": {},
   "outputs": [],
   "source": [
    "\n",
    "import matplotlib.pyplot as plt\n",
    "from numpy import array\n",
    "\n",
    "img = array([[0, 255], [255, 0]])\n",
    "fig, axes = plt.subplots(2, 2)\n",
    "\n",
    "# Note that axes is a 2D array so for convenience, we create a flattend copy:\n",
    "flat_axes = axes.flatten()\n",
    "\n",
    "for i in range(0, 4):\n",
    "    axis = flat_axes[i]\n",
    "\n",
    "    axis.set_title(str(i), fontsize=8)\n",
    "    axis.imshow(img)\n",
    "\n",
    "plt.show()\n"
   ]
  },
  {
   "cell_type": "code",
   "execution_count": null,
   "metadata": {},
   "outputs": [],
   "source": []
  }
 ]
}