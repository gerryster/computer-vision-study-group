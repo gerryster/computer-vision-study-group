{
 "cells": [
  {
   "cell_type": "markdown",
   "metadata": {},
   "source": [
    "# Chapter 1 Examples\n",
    "\n",
    "From \"[Programming Computer Vision with Python](http://programmingcomputervision.com/)\" by Jan Erik Solem (O'Reilly Media, 2012)\n",
    "\n",
    "## 1.2 Matplotlib\n",
    "\n",
    "\"Pylab\" seems to be the deprecated procedural interface to Matplotlib. The [array](https://numpy.org/doc/stable/reference/generated/numpy.array.html) function seems to be an alias to the Numpy funciton.\n",
    "\n",
    "This [Matplotlib Image Tutorial](https://matplotlib.org/tutorials/introductory/images.html#sphx-glr-tutorials-introductory-images-py) was also helpful. **Note** that this tutorial also has an example of displaying two images side by side!\n",
    "\n",
    "This [Medium Article](https://medium.com/dataseries/mastering-matplotlib-part-1-a480109171e3) has a good overview of the history and architecture of Matplotlib.\n"
   ]
  },
  {
   "cell_type": "code",
   "execution_count": null,
   "metadata": {},
   "outputs": [],
   "source": [
    "from PIL import Image \n",
    "from pylab import *\n",
    "\n",
    "# Increase the size of plotted images per:\n",
    "# https://stackoverflow.com/questions/51937381/increase-dpi-of-matplotlib-show-in-jupyter-notebook/51937431\n",
    "# rcParams['figure.dpi'] = 300\n",
    "# %config InlineBackend.figure_format = 'retina'\n",
    "\n",
    "rcParams['figure.dpi'] = 72\n",
    "\n",
    "EMPIRE_PATH = '../example-images/empire.jpg'\n",
    "\n",
    "# For convenience, this will always return the original image:\n",
    "def empire_image():\n",
    "    return Image.open(EMPIRE_PATH)\n",
    "\n",
    "# read image to array\n",
    "im = array(Image.open(EMPIRE_PATH))\n",
    "im"
   ]
  },
  {
   "cell_type": "markdown",
   "metadata": {},
   "source": [
    "Note that the image array above is three dimentional. The outermost array contains one array per row of pixels. The first element represents the RGB value at the upper lefthand corner of the images. I confirmed this using The Gimp and the [pointer dialog](https://docs.gimp.org/2.10/en/gimp-pointer-info-dialog.html)."
   ]
  },
  {
   "cell_type": "code",
   "execution_count": null,
   "metadata": {},
   "outputs": [],
   "source": [
    "im[0][0] # upper lefthand corner"
   ]
  },
  {
   "cell_type": "markdown",
   "metadata": {},
   "source": [
    "[imshow documentation](https://matplotlib.org/api/_as_gen/matplotlib.pyplot.imshow.html#matplotlib.pyplot.imshow)"
   ]
  },
  {
   "cell_type": "code",
   "execution_count": null,
   "metadata": {},
   "outputs": [],
   "source": [
    "# plot the image\n",
    "imshow(im)"
   ]
  },
  {
   "cell_type": "markdown",
   "metadata": {},
   "source": [
    "[plot documentation](https://matplotlib.org/api/_as_gen/matplotlib.pyplot.plot.html#matplotlib.pyplot.plot)\n",
    "\n",
    "Note that the plotting functions mutate a global \"sheet.\""
   ]
  },
  {
   "cell_type": "code",
   "execution_count": null,
   "metadata": {},
   "outputs": [],
   "source": [
    "# plot the image\n",
    "imshow(im)\n",
    "\n",
    "# some points\n",
    "x = [100,100,400,400]\n",
    "y = [200,500,200,500]\n",
    "\n",
    "# plot the points with red star-markers\n",
    "plot(x,y,'r*')\n",
    "\n",
    "# add title and show the plot\n",
    "title('Plotting: \"empire.jpg\"')\n",
    "show()"
   ]
  },
  {
   "cell_type": "code",
   "execution_count": null,
   "metadata": {},
   "outputs": [],
   "source": [
    "\n",
    "grey_im = array(Image.open(EMPIRE_PATH).convert('L'))\n",
    "# create a new figure\n",
    "figure()\n",
    "# don’t use colors\n",
    "gray() # Not sure why this is needed\n",
    "# show contours with origin upper left corner\n",
    "contour(grey_im, origin='image')\n",
    "axis('equal')\n",
    "axis('off')\n"
   ]
  },
  {
   "source": [
    "Create an image histogram with 128 \"bins.\""
   ],
   "cell_type": "markdown",
   "metadata": {}
  },
  {
   "cell_type": "code",
   "execution_count": null,
   "metadata": {},
   "outputs": [],
   "source": [
    "figure() \n",
    "hist(im.flatten(),128) \n",
    "show()"
   ]
  },
  {
   "source": [
    "### Interactive annotation\n",
    "\n",
    "Does not work in a Jupyter notebook.\n"
   ],
   "cell_type": "markdown",
   "metadata": {}
  },
  {
   "source": [
    "## 1.3 NumPy\n",
    "\n",
    "[NumPy Website](https://numpy.org/)"
   ],
   "cell_type": "markdown",
   "metadata": {}
  },
  {
   "cell_type": "code",
   "execution_count": null,
   "metadata": {},
   "outputs": [],
   "source": [
    "im = array(Image.open(EMPIRE_PATH))\n",
    "im.shape, im.dtype"
   ]
  },
  {
   "cell_type": "code",
   "execution_count": null,
   "metadata": {},
   "outputs": [],
   "source": [
    "im = array(Image.open(EMPIRE_PATH).convert('L'),'f')\n",
    "im.shape, im.dtype"
   ]
  },
  {
   "source": [
    "Note that the NumPy [documentation on data types](https://numpy.org/doc/stable/user/basics.types.html) now recommends against the old one character aliases and instead the `np.` constants such as `np.float32`.\n",
    "\n",
    "Array Slicing (page 21) has some helpful examples such as swapping rows and columns in place. It appears as though a slice with no numeric value results in an array copy. Here is an intersting example with a sum:"
   ],
   "cell_type": "markdown",
   "metadata": {}
  },
  {
   "cell_type": "code",
   "execution_count": null,
   "metadata": {},
   "outputs": [],
   "source": [
    "im[:100,:50].sum()"
   ]
  },
  {
   "source": [
    "### Graylevel transforms"
   ],
   "cell_type": "markdown",
   "metadata": {}
  },
  {
   "cell_type": "code",
   "execution_count": null,
   "metadata": {},
   "outputs": [],
   "source": [
    "im = array(Image.open(EMPIRE_PATH).convert('L'))\n",
    "im"
   ]
  },
  {
   "cell_type": "code",
   "execution_count": null,
   "metadata": {},
   "outputs": [],
   "source": [
    "im2 = 255 - im #invert image\n",
    "im2"
   ]
  },
  {
   "cell_type": "code",
   "execution_count": null,
   "metadata": {},
   "outputs": [],
   "source": [
    "Image.fromarray(im2)"
   ]
  },
  {
   "source": [
    "Numpy arrays allow for a lot of mathematical operator overloading in pretty intuative ways across multiple data types. https://www.python-course.eu/numpy_numerical_operations_on_numpy_arrays.php has a good overview.\n",
    "\n",
    "Numpy arrays seem to be of [type ndarray](https://numpy.org/doc/stable/reference/arrays.html)."
   ],
   "cell_type": "markdown",
   "metadata": {}
  },
  {
   "cell_type": "code",
   "execution_count": null,
   "metadata": {},
   "outputs": [],
   "source": [
    "isinstance(im, np.ndarray)"
   ]
  },
  {
   "source": [
    "An interesting side note is that Numpy has 24 scalar types as described at https://numpy.org/doc/stable/reference/arrays.scalars.html\n",
    "\n",
    "Ok, back to the book..."
   ],
   "cell_type": "markdown",
   "metadata": {}
  },
  {
   "cell_type": "code",
   "execution_count": null,
   "metadata": {},
   "outputs": [],
   "source": [
    "im3 = (100.0/255) * im + 100 # clamp to interval 100...200\n",
    "im3"
   ]
  },
  {
   "source": [
    "Note that the above array can not be displayed as an image because it contains foating point numbers. Lets convert back to integers..."
   ],
   "cell_type": "markdown",
   "metadata": {}
  },
  {
   "cell_type": "code",
   "execution_count": null,
   "metadata": {},
   "outputs": [],
   "source": [
    "im3_ints = im3.round(0).astype(np.uint8)\n",
    "Image.fromarray(im3_ints)"
   ]
  },
  {
   "cell_type": "code",
   "execution_count": null,
   "metadata": {},
   "outputs": [],
   "source": [
    "im4 = 255.0 * (im/255.0)**2 # squared\n",
    "im4"
   ]
  },
  {
   "cell_type": "code",
   "execution_count": null,
   "metadata": {},
   "outputs": [],
   "source": [
    "im4_ints = im4.round(0).astype(np.uint8)\n",
    "Image.fromarray(im4_ints)"
   ]
  },
  {
   "source": [
    "The same as above but emphasizing the light pixels instead of the dark ones."
   ],
   "cell_type": "markdown",
   "metadata": {}
  },
  {
   "cell_type": "code",
   "execution_count": null,
   "metadata": {},
   "outputs": [],
   "source": [
    "light_im = 255.0 * sqrt((im/255.0)) # squared\n",
    "light_im"
   ]
  },
  {
   "cell_type": "code",
   "execution_count": null,
   "metadata": {},
   "outputs": [],
   "source": [
    "Image.fromarray(light_im.round(0).astype(np.uint8))"
   ]
  },
  {
   "source": [
    "### Image resizing"
   ],
   "cell_type": "markdown",
   "metadata": {}
  },
  {
   "cell_type": "code",
   "execution_count": null,
   "metadata": {},
   "outputs": [],
   "source": [
    "# This method of importing a relative module is taken from \n",
    "# https://stackoverflow.com/questions/34478398/import-local-function-from-a-module-housed-in-another-directory-with-relative-im\n",
    "\n",
    "import os\n",
    "import sys\n",
    "module_path = os.path.abspath(os.path.join('..'))\n",
    "if module_path not in sys.path:\n",
    "    sys.path.append(module_path)\n",
    "import imtools\n",
    "\n",
    "small_light_im = imtools.imresize(light_im, (40, 40))\n",
    "Image.fromarray(small_light_im)"
   ]
  },
  {
   "source": [
    "### Histogram equalization"
   ],
   "cell_type": "markdown",
   "metadata": {}
  },
  {
   "cell_type": "code",
   "execution_count": null,
   "metadata": {},
   "outputs": [],
   "source": [
    "def histeq(im,nbr_bins=256):\n",
    "  \"\"\" Histogram equalization of a grayscale image. \"\"\"\n",
    "  \n",
    "  # get image histogram\n",
    "  imhist,bins = histogram(im.flatten(),nbr_bins,normed=True) \n",
    "  cdf = imhist.cumsum() # cumulative distribution function \n",
    "  cdf = 255 * cdf / cdf[-1] # normalize\n",
    "\n",
    "  # use linear interpolation of cdf to find new pixel values\n",
    "  im2 = interp(im.flatten(),bins[:-1],cdf) \n",
    "  \n",
    "  return im2.reshape(im.shape), cdf"
   ]
  },
  {
   "cell_type": "code",
   "execution_count": null,
   "metadata": {},
   "outputs": [],
   "source": [
    "im_a = array(Image.open(EMPIRE_PATH).convert('L'))\n",
    "\n",
    "im_a_equalized, cdf = histeq(im)\n",
    "\n",
    "im_equalized = Image.fromarray(im_a_equalized.round(0).astype(np.uint8))\n",
    "im_equalized"
   ]
  },
  {
   "source": [
    "### Multiple Subplots\n",
    "\n",
    "Adapted from https://matplotlib.org/3.3.3/gallery/subplots_axes_and_figures/subplot.html#sphx-glr-gallery-subplots-axes-and-figures-subplot-py"
   ],
   "cell_type": "markdown",
   "metadata": {}
  },
  {
   "cell_type": "code",
   "execution_count": null,
   "metadata": {},
   "outputs": [],
   "source": [
    "%matplotlib inline\n",
    "\n",
    "rcParams['figure.dpi'] = 300\n",
    "\n",
    "x1 = np.linspace(0.0, 5.0)\n",
    "x2 = np.linspace(0.0, 2.0)\n",
    "\n",
    "y1 = np.cos(2 * np.pi * x1) * np.exp(-x1)\n",
    "y2 = np.cos(2 * np.pi * x2)\n",
    "\n",
    "fig, (ax1, ax2) = plt.subplots(1, 2)\n",
    "# fig.suptitle('A tale of 2 subplots')\n",
    "\n",
    "ax1.set_title('Original')\n",
    "ax1.imshow(im_a)\n",
    "ax1.axis('off')\n",
    "\n",
    "ax2.set_title('Equalized')\n",
    "ax2.imshow(im_a_equalized)\n",
    "ax2.axis('off')\n",
    "\n",
    "plt.show()"
   ]
  },
  {
   "source": [
    "### Averaging Images"
   ],
   "cell_type": "markdown",
   "metadata": {}
  },
  {
   "cell_type": "code",
   "execution_count": null,
   "metadata": {},
   "outputs": [],
   "source": [
    "### TODO: move this to imtools.py\n",
    "\n",
    "import sys\n",
    "\n",
    "\n",
    "def compute_average(imlist):\n",
    "  \"\"\" Compute the average of a list of images. \"\"\"\n",
    "  \n",
    "  # open first image and make into array of type float\n",
    "  averageim = array(Image.open(imlist[0]), 'f')\n",
    "\n",
    "  for imname in imlist[1:]: \n",
    "    try:\n",
    "      averageim += array(Image.open(imname))\n",
    "    except:\n",
    "      sys.stderr.write( imname + '...skipped')\n",
    "  averageim /= len(imlist)\n",
    "\n",
    "  # return average as uint8\n",
    "  return array(averageim, 'uint8')\n",
    "\n"
   ]
  },
  {
   "source": [
    "### PCA of images\n",
    "\n",
    "PCA seems to be a trick to reduce the size of input data but still preserve primary correlations and remove the noise. There is a lot of math here. The following videos helped to refresh me on the idea of a projection matrix:\n",
    "\n",
    "1. [Introduction to projections](https://www.youtube.com/watch?v=27vT-NWuw0M)\n",
    "2. [Expressing a projection on to a line as a matrix vector prod](https://www.youtube.com/watch?v=JK-8XNIoAkI)\n",
    "3. [A projection onto a subspace is a linear transformation](https://www.youtube.com/watch?v=cTyNpXB92bQ)\n",
    "\n",
    "https://towardsdatascience.com/the-mathematics-behind-principal-component-analysis-fff2d7f4b643 also provided a good mathematical overview. Also, this [Khan Academy Video](https://www.khanacademy.org/math/ap-statistics/summarizing-quantitative-data-ap/more-standard-deviation/v/review-and-intuition-why-we-divide-by-n-1-for-the-unbiased-sample-variance) was helpful in explaining why `n - 1` is used as the divisor for covariance.\n",
    "\n",
    "Note that the examples below require `example-images/fontimages.zip` to be extracted.\n"
   ],
   "cell_type": "markdown",
   "metadata": {}
  },
  {
   "cell_type": "code",
   "execution_count": null,
   "metadata": {},
   "outputs": [],
   "source": [
    "from PIL import Image \n",
    "from numpy import * \n",
    "from pylab import * \n",
    "import pca\n",
    "\n",
    "def pca_first_seven(path, ext):\n",
    "    imlist = imtools.get_imlist(path, ext)\n",
    "    im = array(Image.open(imlist[0])) # open one image to get size\n",
    "    m,n = im.shape[0:2] # get the size of the images\n",
    "    imnbr = len(imlist) # get the number of images\n",
    "    # create matrix to store all flattened images\n",
    "    immatrix = array([array(Image.open(im)).flatten() \n",
    "                    for im in imlist],'f')\n",
    "\n",
    "    # perform PCA\n",
    "    V,S,immean = pca.pca(immatrix)\n",
    "\n",
    "    # show some images (mean and 7 first modes)\n",
    "    figure()\n",
    "    gray()\n",
    "    subplot(2,4,1) \n",
    "    imshow(immean.reshape(m,n))\n",
    "    for i in range(7):\n",
    "      subplot(2,4,i+2)\n",
    "      imshow(V[i].reshape(m,n))\n",
    "      axis('off')\n",
    "\n",
    "    show()\n",
    "\n",
    "pca_first_seven('../example-images/a_thumbs/', 'jpg')"
   ]
  },
  {
   "cell_type": "code",
   "execution_count": null,
   "metadata": {},
   "outputs": [],
   "source": [
    "# This exposed a bug in the PCA code where the image mean was an array of the number of pixels in the image times three.\n",
    "\n",
    "# pca_first_seven('../example-images/annie2', 'jpg')"
   ]
  },
  {
   "source": [
    "## 1.4 SciPy\n",
    "\n",
    "### Bluring Images\n"
   ],
   "cell_type": "markdown",
   "metadata": {}
  },
  {
   "cell_type": "code",
   "execution_count": null,
   "metadata": {},
   "outputs": [],
   "source": [
    "from PIL import Image\n",
    "from numpy import *\n",
    "from scipy.ndimage import filters\n",
    "\n",
    "im = array(Image.open(EMPIRE_PATH).convert('L')) \n",
    "im2 = filters.gaussian_filter(im,20)\n",
    "Image.fromarray(im2)\n"
   ]
  },
  {
   "source": [
    "#### Color Blur"
   ],
   "cell_type": "markdown",
   "metadata": {}
  },
  {
   "cell_type": "code",
   "execution_count": null,
   "metadata": {},
   "outputs": [],
   "source": [
    "im = array(Image.open(EMPIRE_PATH))\n",
    "im2 = zeros(im.shape)\n",
    "for i in range(3):\n",
    "  # Blur blue:\n",
    "  blur = 8 if i == 1 else 0 \n",
    "  im2[:,:,i] = filters.gaussian_filter(im[:,:,i],blur)\n",
    "im2 = uint8(im2)\n",
    "Image.fromarray(im2)"
   ]
  },
  {
   "cell_type": "code",
   "execution_count": null,
   "metadata": {},
   "outputs": [],
   "source": []
  },
  {
   "source": [
    "### Image derivatives"
   ],
   "cell_type": "markdown",
   "metadata": {}
  },
  {
   "cell_type": "code",
   "execution_count": null,
   "metadata": {},
   "outputs": [],
   "source": [
    "from PIL import Image\n",
    "from numpy import *\n",
    "from scipy.ndimage import filters\n",
    "\n",
    "from lib.plot_gallery import *\n",
    "\n",
    "im = array(Image.open(EMPIRE_PATH).convert('L'))\n",
    "\n",
    "#Sobel derivative filters\n",
    "imx = zeros(im.shape) \n",
    "filters.sobel(im,1,imx)\n",
    "\n",
    "imy = zeros(im.shape) \n",
    "filters.sobel(im,0,imy)\n",
    "magnitude = sqrt(imx**2+imy**2)\n",
    "\n",
    "gallery = PlotGallery(columns = 4, title = 'Image Derivatives')\n",
    "gallery.add_exhibit(Exhibit(im, title = 'Original'))\n",
    "gallery.add_exhibit(Exhibit(abs(imx), title = 'X Derivative'))\n",
    "gallery.add_exhibit(Exhibit(abs(imy), title = 'Y Derivative'))\n",
    "gallery.add_exhibit(Exhibit(abs(magnitude), title = 'Magnitude'))\n",
    "gallery.open()\n",
    "\n",
    "\n"
   ]
  },
  {
   "source": [
    "#### Gaussian derivative filters\n"
   ],
   "cell_type": "markdown",
   "metadata": {}
  },
  {
   "cell_type": "code",
   "execution_count": null,
   "metadata": {},
   "outputs": [],
   "source": [
    "\n",
    "\n",
    "im = array(Image.open(EMPIRE_PATH).convert('L'))\n",
    "sigma = 5 #standard deviation \n",
    "\n",
    "imx = zeros(im.shape)\n",
    "filters.gaussian_filter(\n",
    "   input=im, sigma=(sigma,sigma), order=(0,1), output=imx\n",
    ")\n",
    "\n",
    "imy = zeros(im.shape)\n",
    "filters.gaussian_filter(\n",
    "   input=im, sigma=(sigma,sigma), order=(1,0), output=imy\n",
    ")\n",
    "magnitude = sqrt(imx**2+imy**2)\n",
    "\n",
    "gallery = PlotGallery(columns = 4, title = 'Gaussian Derivative Filters (σ = ' + str(sigma) + ')')\n",
    "gallery.add_exhibit(Exhibit(im, title = 'Original'))\n",
    "gallery.add_exhibit(Exhibit(abs(imx), title = 'X Derivative'))\n",
    "gallery.add_exhibit(Exhibit(abs(imy), title = 'Y Derivative'))\n",
    "gallery.add_exhibit(Exhibit(abs(magnitude), title = 'Magnitude'))\n",
    "gallery.open()\n",
    "\n"
   ]
  },
  {
   "source": [
    "### Useful SciPy modules\n",
    "\n",
    "#### Reading and writing .mat files\n",
    "\n",
    "These files are binary. Note that the second argument needs to be a dict."
   ],
   "cell_type": "markdown",
   "metadata": {}
  },
  {
   "cell_type": "code",
   "execution_count": null,
   "metadata": {},
   "outputs": [],
   "source": [
    "import scipy\n",
    "from scipy.io import savemat\n",
    "\n",
    "scipy.io.savemat('/tmp/im.mat', { 'name': 'houses', 'image': im})"
   ]
  },
  {
   "source": [
    "#### Saving arrays as images\n",
    "\n",
    "scipy.misc.imsave seems to be deprecated."
   ],
   "cell_type": "markdown",
   "metadata": {}
  },
  {
   "source": [
    "## 1.5 Advanced example: Image de-noising\n",
    "\n"
   ],
   "cell_type": "markdown",
   "metadata": {}
  },
  {
   "cell_type": "code",
   "execution_count": null,
   "metadata": {},
   "outputs": [],
   "source": [
    "from numpy import *\n",
    "from numpy import random\n",
    "from scipy.ndimage import filters \n",
    "import rof\n",
    "\n",
    "SIGMA = 5\n",
    "\n",
    "# create synthetic image with noise\n",
    "im = zeros((500,500))\n",
    "im[100:400,100:400] = 128\n",
    "im[200:300,200:300] = 255\n",
    "im = im + 30 * random.standard_normal((500,500))\n",
    "\n",
    "U,T = rof.denoise(im,im)\n",
    "G = filters.gaussian_filter(im,sigma = SIGMA)\n",
    "\n",
    "empire = array(empire_image().convert('L'))\n",
    "# empire = empire + 30 * random.standard_normal(empire.shape)\n",
    "empire_gaus = filters.gaussian_filter(empire,sigma = SIGMA)\n",
    "empire_denoised, T = rof.denoise(empire, empire)\n",
    "\n",
    "gallery = PlotGallery(columns = 3, title = 'Image De-noising')\n",
    "gallery.add_exhibit(Exhibit(im, title = 'Original', axis = 'on'))\n",
    "gallery.add_exhibit(Exhibit(G, title = 'Gaussian Blurred (σ = ' + str(SIGMA) + ')'))\n",
    "gallery.add_exhibit(Exhibit(U, title = 'ROF de-noised'))\n",
    "\n",
    "gallery.add_exhibit(Exhibit(empire, ''))\n",
    "gallery.add_exhibit(Exhibit(empire_gaus, ''))\n",
    "gallery.add_exhibit(Exhibit(empire_denoised, ''))\n",
    "gallery.open()\n"
   ]
  }
 ],
 "metadata": {
  "kernelspec": {
   "display_name": "Python 3",
   "language": "python",
   "name": "python3"
  },
  "language_info": {
   "codemirror_mode": {
    "name": "ipython",
    "version": 3
   },
   "file_extension": ".py",
   "mimetype": "text/x-python",
   "name": "python",
   "nbconvert_exporter": "python",
   "pygments_lexer": "ipython3",
   "version": "3.9.0-final"
  }
 },
 "nbformat": 4,
 "nbformat_minor": 4
}